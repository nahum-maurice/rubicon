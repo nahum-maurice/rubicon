{
 "cells": [
  {
   "cell_type": "code",
   "execution_count": null,
   "id": "121e5be8",
   "metadata": {},
   "outputs": [],
   "source": [
    "import sys\n",
    "from pathlib import Path\n",
    "\n",
    "sys.path.append(str(Path.cwd().parent))"
   ]
  },
  {
   "cell_type": "code",
   "execution_count": null,
   "id": "8b34057d",
   "metadata": {},
   "outputs": [],
   "source": [
    "import os\n",
    "\n",
    "os.environ[\"TF_CPP_MIN_LOG_LEVEL\"] = \"2\"\n",
    "\n",
    "from typing import Callable, Iterator\n",
    "\n",
    "import jax\n",
    "from jax import numpy as jnp\n",
    "import optax\n",
    "\n",
    "from datasets.mnist import load_mnist, MnistLoaderConfig\n",
    "from rubicon.nns.convnet import ConvNetConfig, ConvNet\n",
    "from rubicon.ntk.ntk import NTKConfig, NeuralTangentKernel\n",
    "\n",
    "jax.devices()"
   ]
  },
  {
   "cell_type": "code",
   "execution_count": null,
   "id": "24f27af0",
   "metadata": {},
   "outputs": [],
   "source": [
    "def get_input_shape(\n",
    "    iterator: Iterator[tuple[jnp.ndarray, jnp.ndarray]],\n",
    ") -> tuple[int, ...]:\n",
    "    \"\"\"Extract the input shape from the first batch of an iterator\"\"\"\n",
    "    try:\n",
    "        x_batch, _ = next(iter(iterator))\n",
    "        return x_batch.shape[:]\n",
    "    except StopIteration:\n",
    "        raise ValueError(\"Empty iterator; cannot determine input shape\")\n",
    "\n",
    "\n",
    "def create_data_factory(\n",
    "    config: MnistLoaderConfig,\n",
    ") -> Callable[[], Iterator[tuple[jnp.ndarray, jnp.ndarray]]]:\n",
    "    \"\"\"Create a factory function for training and test iterators\"\"\"\n",
    "\n",
    "    def data_factory():\n",
    "        train_iter, test_iter = load_mnist(config=config)\n",
    "        return train_iter, test_iter\n",
    "\n",
    "    return data_factory"
   ]
  },
  {
   "cell_type": "code",
   "execution_count": null,
   "id": "5a6423b8",
   "metadata": {},
   "outputs": [],
   "source": [
    "mnist_loader_config = MnistLoaderConfig(batch_size=32)\n",
    "temp_train_iter, _ = load_mnist(mnist_loader_config)\n",
    "input_shape = get_input_shape(temp_train_iter)\n",
    "\n",
    "data_factory = create_data_factory(mnist_loader_config)"
   ]
  },
  {
   "cell_type": "code",
   "execution_count": null,
   "id": "64c59339",
   "metadata": {},
   "outputs": [],
   "source": [
    "train, test = data_factory()\n",
    "for x, y in test:\n",
    "    print(x.shape, y.shape)"
   ]
  },
  {
   "cell_type": "code",
   "execution_count": null,
   "id": "9bd112f5",
   "metadata": {},
   "outputs": [],
   "source": [
    "config = ConvNetConfig(\n",
    "    conv_filters=[32],\n",
    "    kernel_sizes=[(3, 3)],\n",
    "    dense_sizes=[10],\n",
    "    batch_size=32,\n",
    "    input_shape=input_shape,\n",
    "    num_epochs=10,\n",
    "    seed=42,\n",
    "    # pooling yields error on metal\n",
    "    pool_after=[False],\n",
    ")\n",
    "net = ConvNet(config)\n",
    "net.initialize()\n",
    "net.initialized"
   ]
  },
  {
   "cell_type": "code",
   "execution_count": null,
   "id": "c7263cb2",
   "metadata": {},
   "outputs": [],
   "source": [
    "ntk_config = NTKConfig(\n",
    "    z=1e-4,\n",
    "    optimizer=optax.adam,\n",
    "    learning_rate=1e-3,\n",
    "    lambd=1e-6,\n",
    ")\n",
    "ntk = NeuralTangentKernel.from_convnet(net, config=ntk_config)"
   ]
  },
  {
   "cell_type": "code",
   "execution_count": null,
   "id": "189e537e",
   "metadata": {},
   "outputs": [],
   "source": [
    "from rubicon.utils.kare import kare\n",
    "\n",
    "train_iter, test_iter = data_factory()\n",
    "x_train, y_train = next(train_iter)\n",
    "\n",
    "K = ntk._compute_ntk(x_train, x_train, ntk.params, ntk.apply_fn)\n",
    "print(K.shape, x_train.shape)\n",
    "k = kare(y_train, K, ntk_config.z)\n",
    "k"
   ]
  },
  {
   "cell_type": "code",
   "execution_count": null,
   "id": "7daecda5",
   "metadata": {},
   "outputs": [],
   "source": [
    "# temporarily before training so that we don't have to wait a whole day\n",
    "ntk.train_with_kare(\n",
    "    data_factory=data_factory,\n",
    "    num_epochs=10,\n",
    "    start_from_init=True,\n",
    "    return_metrics=True,\n",
    "    verbose=True,\n",
    ")"
   ]
  },
  {
   "cell_type": "code",
   "execution_count": null,
   "id": "43a0b22b",
   "metadata": {},
   "outputs": [],
   "source": [
    "training_history = net.train(\n",
    "    data_factory=data_factory, return_metrics=True, verbose=True\n",
    ")"
   ]
  },
  {
   "cell_type": "code",
   "execution_count": null,
   "id": "86576524",
   "metadata": {},
   "outputs": [],
   "source": [
    "ntk.train_with_kare(\n",
    "    data_factory=data_factory,\n",
    "    num_epochs=10,\n",
    "    start_from_init=True,\n",
    "    return_metrics=True,\n",
    "    verbose=True,\n",
    ")"
   ]
  }
 ],
 "metadata": {
  "kernelspec": {
   "display_name": ".venv",
   "language": "python",
   "name": "python3"
  },
  "language_info": {
   "codemirror_mode": {
    "name": "ipython",
    "version": 3
   },
   "file_extension": ".py",
   "mimetype": "text/x-python",
   "name": "python",
   "nbconvert_exporter": "python",
   "pygments_lexer": "ipython3",
   "version": "3.10.16"
  }
 },
 "nbformat": 4,
 "nbformat_minor": 5
}
