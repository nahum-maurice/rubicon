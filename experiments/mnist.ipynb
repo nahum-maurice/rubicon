{
 "cells": [
  {
   "cell_type": "code",
   "execution_count": null,
   "id": "121e5be8",
   "metadata": {},
   "outputs": [],
   "source": [
    "import sys\n",
    "from pathlib import Path\n",
    "sys.path.append(str(Path.cwd().parent))"
   ]
  },
  {
   "cell_type": "code",
   "execution_count": null,
   "id": "8b34057d",
   "metadata": {},
   "outputs": [],
   "source": [
    "import os\n",
    "os.environ['TF_CPP_MIN_LOG_LEVEL'] = '2'\n",
    "\n",
    "from typing import Callable, Iterator\n",
    "\n",
    "import jax\n",
    "from jax import numpy as jnp\n",
    "import optax\n",
    "\n",
    "from datasets.mnist import load_mnist, MnistLoaderConfig\n",
    "from rubicon.nns.convnet import ConvNetConfig, ConvNet\n",
    "from rubicon.ntk.ntk import NTKConfig, NeuralTangentKernel\n",
    "\n",
    "jax.devices()"
   ]
  },
  {
   "cell_type": "code",
   "execution_count": null,
   "id": "24f27af0",
   "metadata": {},
   "outputs": [],
   "source": [
    "def get_input_shape(iterator: Iterator[tuple[jnp.ndarray, jnp.ndarray]]) -> tuple[int, ...]:\n",
    "    \"\"\"Extract the input shape from the first batch of an iterator\"\"\"\n",
    "    try:\n",
    "        x_batch, _ = next(iter(iterator))\n",
    "        return x_batch.shape[:]\n",
    "    except StopIteration:\n",
    "        raise ValueError(\"Empty iterator; cannot determine input shape\")\n",
    "\n",
    "def create_data_factory(config: MnistLoaderConfig) -> Callable[[], Iterator[tuple[jnp.ndarray, jnp.ndarray]]]:\n",
    "    \"\"\"Create a factory function for training and test iterators\"\"\"\n",
    "    def data_factory():\n",
    "        train_iter, test_iter = load_mnist(config=config)\n",
    "        return train_iter, test_iter\n",
    "    return data_factory\n"
   ]
  },
  {
   "cell_type": "code",
   "execution_count": null,
   "id": "5a6423b8",
   "metadata": {},
   "outputs": [],
   "source": [
    "mnist_loader_config = MnistLoaderConfig(batch_size=128)\n",
    "temp_train_iter, _ = load_mnist(mnist_loader_config)\n",
    "input_shape = get_input_shape(temp_train_iter)\n",
    "\n",
    "data_factory = create_data_factory(mnist_loader_config)"
   ]
  },
  {
   "cell_type": "code",
   "execution_count": null,
   "id": "9bd112f5",
   "metadata": {},
   "outputs": [],
   "source": [
    "config = ConvNetConfig(\n",
    "    conv_filters=[32],\n",
    "    kernel_sizes=[(3, 3)],\n",
    "    dense_sizes=[10],\n",
    "    batch_size=128,\n",
    "    input_shape=input_shape,\n",
    "    num_epochs=10,\n",
    "    seed=42,\n",
    "    # activation_function=stax.Gelu,\n",
    ")\n",
    "net = ConvNet(config)\n",
    "net.initialize(); net.initialized"
   ]
  },
  {
   "cell_type": "code",
   "execution_count": null,
   "id": "c7263cb2",
   "metadata": {},
   "outputs": [],
   "source": [
    "ntk_config = NTKConfig(\n",
    "    z=1e-4,\n",
    "    optimizer=optax.adam,\n",
    "    learning_rate=1e-3,\n",
    "    lambd=1e-6,\n",
    ")\n",
    "ntk = NeuralTangentKernel.from_convnet(net, config=ntk_config)"
   ]
  },
  {
   "cell_type": "code",
   "execution_count": null,
   "id": "7daecda5",
   "metadata": {},
   "outputs": [],
   "source": [
    "# temporarily before training so that we don't have to wait a whole day\n",
    "ntk.train_with_kare(\n",
    "    data_factory=data_factory,\n",
    "    num_epochs=10,\n",
    "    start_from_init=True,\n",
    "    return_metrics=True,\n",
    "    verbose=True\n",
    ")"
   ]
  },
  {
   "cell_type": "code",
   "execution_count": null,
   "id": "43a0b22b",
   "metadata": {},
   "outputs": [],
   "source": [
    "training_history = net.train(\n",
    "    data_factory=data_factory,\n",
    "    return_metrics=True,\n",
    "    verbose=True\n",
    ")\n"
   ]
  },
  {
   "cell_type": "code",
   "execution_count": null,
   "id": "86576524",
   "metadata": {},
   "outputs": [],
   "source": [
    "ntk.train_with_kare(\n",
    "    data_factory=data_factory,\n",
    "    num_epochs=10,\n",
    "    start_from_init=True,\n",
    "    return_metrics=True,\n",
    "    verbose=True\n",
    ")"
   ]
  },
  {
   "cell_type": "code",
   "execution_count": null,
   "id": "65768b52",
   "metadata": {},
   "outputs": [],
   "source": []
  }
 ],
 "metadata": {
  "kernelspec": {
   "display_name": ".venv",
   "language": "python",
   "name": "python3"
  },
  "language_info": {
   "codemirror_mode": {
    "name": "ipython",
    "version": 3
   },
   "file_extension": ".py",
   "mimetype": "text/x-python",
   "name": "python",
   "nbconvert_exporter": "python",
   "pygments_lexer": "ipython3",
   "version": "3.10.16"
  }
 },
 "nbformat": 4,
 "nbformat_minor": 5
}
