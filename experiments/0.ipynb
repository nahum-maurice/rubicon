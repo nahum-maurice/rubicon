{
 "cells": [
  {
   "cell_type": "code",
   "execution_count": null,
   "id": "47183846",
   "metadata": {},
   "outputs": [],
   "source": [
    "import jax\n",
    "import jax.numpy as jnp\n",
    "from jax import random, grad, vmap, jit\n",
    "import neural_tangents as nt\n",
    "from neural_tangents import stax\n",
    "import optax"
   ]
  },
  {
   "cell_type": "code",
   "execution_count": null,
   "id": "333b9d3c",
   "metadata": {},
   "outputs": [],
   "source": [
    "key = random.PRNGKey(42)\n",
    "n_train, n_test = 20, 50\n",
    "x_train = jnp.linspace(-jnp.pi, jnp.pi, n_train)[:, None]\n",
    "y_train = jnp.sin(x_train) + 0.1 * random.normal(key, shape=(n_train, 1))\n",
    "x_test = jnp.linspace(-jnp.pi, jnp.pi + 1, n_test)[:, None]\n",
    "y_test = jnp.sin(x_test)"
   ]
  },
  {
   "cell_type": "code",
   "execution_count": null,
   "id": "de8a25eb",
   "metadata": {},
   "outputs": [],
   "source": [
    "init_fn, apply_fn, kernel_fn = nt.stax.serial(\n",
    "    stax.Dense(512, W_std=1.0, b_std=0.05),\n",
    "    stax.Relu(),\n",
    "    stax.Dense(1, W_std=1.0, b_std=0.05),\n",
    ")\n",
    "output_shape, params_init = init_fn(key, input_shape=x_train.shape)\n",
    "predictions_init = apply_fn(params_init, x_train)"
   ]
  },
  {
   "cell_type": "code",
   "execution_count": null,
   "id": "219febbd",
   "metadata": {},
   "outputs": [],
   "source": [
    "def compute_ntk(x1, x2, params):\n",
    "    ntk_fn = nt.empirical_ntk_fn(apply_fn)\n",
    "    return ntk_fn(x1, x2, params)\n",
    "\n",
    "\n",
    "def mse_loss(params, x, y):\n",
    "    pred = apply_fn(params, x)\n",
    "    return 0.5 * jnp.mean((pred - y) ** 2)"
   ]
  },
  {
   "cell_type": "code",
   "execution_count": null,
   "id": "cefd5bdd",
   "metadata": {},
   "outputs": [],
   "source": [
    "grad_loss = jit(grad(mse_loss))\n",
    "optimizer = optax.adam(learning_rate=1e-3)\n",
    "opt_state = optimizer.init(params_init)\n",
    "params_dnn = params_init"
   ]
  },
  {
   "cell_type": "code",
   "execution_count": null,
   "id": "88190302",
   "metadata": {},
   "outputs": [],
   "source": [
    "for epoch in range(5000):\n",
    "    grads = grad_loss(params_dnn, x_train, y_train)\n",
    "    updates, opt_state = optimizer.update(grads, opt_state)\n",
    "    params_dnn = optax.apply_updates(params_dnn, updates)"
   ]
  },
  {
   "cell_type": "code",
   "execution_count": null,
   "id": "6cdb0b1d",
   "metadata": {},
   "outputs": [],
   "source": [
    "initial_ntk = compute_ntk(x_train, x_train, params_init)\n",
    "after_ntk = compute_ntk(x_train, x_train, params_dnn)"
   ]
  },
  {
   "cell_type": "code",
   "execution_count": null,
   "id": "e18fa454",
   "metadata": {},
   "outputs": [],
   "source": [
    "def kare(y, K, z, n):\n",
    "    K_norm = K / n\n",
    "    mat = K_norm + z * jnp.eye(n)\n",
    "    inv = jnp.linalg.inv(mat)\n",
    "    inv2 = inv @ inv\n",
    "    term1 = (1 / n) * y.T @ inv2 @ y\n",
    "    trace = jnp.trace(inv) / n\n",
    "    term2 = trace**2\n",
    "    return term1[0, 0] - term2\n",
    "\n",
    "\n",
    "def kare_objective(params):\n",
    "    K = compute_ntk(x_train, x_train, params)\n",
    "    return kare(y_train, K, z=1e-3, n=n_train)"
   ]
  },
  {
   "cell_type": "code",
   "execution_count": null,
   "id": "3a79dbdc",
   "metadata": {},
   "outputs": [],
   "source": [
    "grad_kare = jit(grad(kare_objective))\n",
    "optimizer_kare = optax.adam(learning_rate=1e-6)\n",
    "opt_state_kare = optimizer_kare.init(params_init)\n",
    "params_kare = params_dnn"
   ]
  },
  {
   "cell_type": "code",
   "execution_count": null,
   "id": "1f11f004",
   "metadata": {},
   "outputs": [],
   "source": [
    "for epoch in range(1000):\n",
    "    grads = grad_kare(params_kare)\n",
    "    updates, opt_state_kare = optimizer_kare.update(grads, opt_state_kare)\n",
    "    params_kare = optax.apply_updates(params_kare, updates)"
   ]
  },
  {
   "cell_type": "code",
   "execution_count": null,
   "id": "7f823d3c",
   "metadata": {},
   "outputs": [],
   "source": [
    "def kernel_predict(\n",
    "    kernel_matrix_train, x_test, y_train, params, lambd=1e-6, n=n_train\n",
    "):\n",
    "    K_test_train = compute_ntk(x_test, x_train, params)\n",
    "    print(K_test_train.shape)\n",
    "    K_norm = kernel_matrix_train / n\n",
    "    inv = jnp.linalg.inv(K_norm + lambd * jnp.eye(n))\n",
    "    preds = (1 / n) * K_test_train @ inv @ y_train\n",
    "    return preds\n",
    "\n",
    "\n",
    "def mse(pred, true):\n",
    "    return jnp.mean((pred - true) ** 2)"
   ]
  },
  {
   "cell_type": "code",
   "execution_count": null,
   "id": "5f3887d5",
   "metadata": {},
   "outputs": [],
   "source": [
    "kare_ntk = compute_ntk(x_train, x_train, params_kare)"
   ]
  },
  {
   "cell_type": "code",
   "execution_count": null,
   "id": "09e3b2e6",
   "metadata": {},
   "outputs": [],
   "source": [
    "dnn_preds = apply_fn(params_dnn, x_test)\n",
    "initial_ntk_preds = kernel_predict(initial_ntk, x_test, y_train, params_init)\n",
    "after_ntk_preds = kernel_predict(after_ntk, x_test, y_train, params_dnn)\n",
    "kare_preds = kernel_predict(kare_ntk, x_test, y_train, params_kare)\n",
    "\n",
    "print(\n",
    "    f\"Neural network = {mse(dnn_preds, y_test)}\\n\"\n",
    "    f\"Initial NTK    = {mse(initial_ntk_preds, y_test)}\\n\"\n",
    "    f\"After NTK      = {mse(after_ntk_preds, y_test)}\\n\"\n",
    "    f\"NTK KARE       = {mse(kare_preds, y_test)}\"\n",
    ")"
   ]
  }
 ],
 "metadata": {
  "kernelspec": {
   "display_name": ".venv",
   "language": "python",
   "name": "python3"
  },
  "language_info": {
   "codemirror_mode": {
    "name": "ipython",
    "version": 3
   },
   "file_extension": ".py",
   "mimetype": "text/x-python",
   "name": "python",
   "nbconvert_exporter": "python",
   "pygments_lexer": "ipython3",
   "version": "3.10.16"
  }
 },
 "nbformat": 4,
 "nbformat_minor": 5
}
