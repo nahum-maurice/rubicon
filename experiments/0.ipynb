{
 "cells": [
  {
   "cell_type": "code",
   "execution_count": 1,
   "id": "47183846",
   "metadata": {},
   "outputs": [],
   "source": [
    "import jax\n",
    "import jax.numpy as jnp\n",
    "from jax import random, grad, vmap, jit\n",
    "import neural_tangents as nt\n",
    "from neural_tangents import stax\n",
    "import optax"
   ]
  },
  {
   "cell_type": "code",
   "execution_count": 2,
   "id": "333b9d3c",
   "metadata": {},
   "outputs": [
    {
     "name": "stderr",
     "output_type": "stream",
     "text": [
      "Platform 'METAL' is experimental and not all JAX functionality may be correctly supported!\n",
      "WARNING: All log messages before absl::InitializeLog() is called are written to STDERR\n",
      "W0000 00:00:1758505254.819535 1937444 mps_client.cc:510] WARNING: JAX Apple GPU support is experimental and not all JAX functionality is correctly supported!\n",
      "I0000 00:00:1758505254.912237 1937444 service.cc:145] XLA service 0x311608e50 initialized for platform METAL (this does not guarantee that XLA will be used). Devices:\n",
      "I0000 00:00:1758505254.912359 1937444 service.cc:153]   StreamExecutor device (0): Metal, <undefined>\n",
      "I0000 00:00:1758505254.920173 1937444 mps_client.cc:406] Using Simple allocator.\n",
      "I0000 00:00:1758505254.920190 1937444 mps_client.cc:384] XLA backend will use up to 5726240768 bytes on device 0 for SimpleAllocator.\n"
     ]
    },
    {
     "name": "stdout",
     "output_type": "stream",
     "text": [
      "Metal device set to: Apple M2\n",
      "\n",
      "systemMemory: 8.00 GB\n",
      "maxCacheSize: 2.67 GB\n",
      "\n"
     ]
    }
   ],
   "source": [
    "key = random.PRNGKey(42)\n",
    "n_train, n_test = 20, 50\n",
    "x_train = jnp.linspace(-jnp.pi, jnp.pi, n_train)[:, None]\n",
    "y_train = jnp.sin(x_train) + 0.1 * random.normal(key, shape=(n_train, 1))\n",
    "x_test = jnp.linspace(-jnp.pi, jnp.pi + 1, n_test)[:, None]\n",
    "y_test = jnp.sin(x_test)"
   ]
  },
  {
   "cell_type": "code",
   "execution_count": 3,
   "id": "de8a25eb",
   "metadata": {},
   "outputs": [],
   "source": [
    "init_fn, apply_fn, kernel_fn = nt.stax.serial(\n",
    "    stax.Dense(512, W_std=1.0, b_std=0.05),\n",
    "    stax.Relu(),\n",
    "    stax.Dense(1, W_std=1.0, b_std=0.05),\n",
    ")\n",
    "output_shape, params_init = init_fn(key, input_shape=x_train.shape)\n",
    "predictions_init = apply_fn(params_init, x_train)"
   ]
  },
  {
   "cell_type": "code",
   "execution_count": null,
   "id": "219febbd",
   "metadata": {},
   "outputs": [],
   "source": []
  }
 ],
 "metadata": {
  "kernelspec": {
   "display_name": ".venv",
   "language": "python",
   "name": "python3"
  },
  "language_info": {
   "codemirror_mode": {
    "name": "ipython",
    "version": 3
   },
   "file_extension": ".py",
   "mimetype": "text/x-python",
   "name": "python",
   "nbconvert_exporter": "python",
   "pygments_lexer": "ipython3",
   "version": "3.10.16"
  }
 },
 "nbformat": 4,
 "nbformat_minor": 5
}
