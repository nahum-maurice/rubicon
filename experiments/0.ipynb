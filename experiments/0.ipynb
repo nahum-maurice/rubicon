{
 "cells": [
  {
   "cell_type": "code",
   "execution_count": 1,
   "id": "47183846",
   "metadata": {},
   "outputs": [],
   "source": [
    "import jax\n",
    "import jax.numpy as jnp\n",
    "from jax import random, grad, vmap, jit\n",
    "import neural_tangents as nt\n",
    "from neural_tangents import stax\n",
    "import optax"
   ]
  },
  {
   "cell_type": "code",
   "execution_count": 2,
   "id": "333b9d3c",
   "metadata": {},
   "outputs": [
    {
     "name": "stderr",
     "output_type": "stream",
     "text": [
      "Platform 'METAL' is experimental and not all JAX functionality may be correctly supported!\n",
      "WARNING: All log messages before absl::InitializeLog() is called are written to STDERR\n",
      "W0000 00:00:1758506172.966216 1968454 mps_client.cc:510] WARNING: JAX Apple GPU support is experimental and not all JAX functionality is correctly supported!\n",
      "I0000 00:00:1758506173.043028 1968454 service.cc:145] XLA service 0x17fe08eb0 initialized for platform METAL (this does not guarantee that XLA will be used). Devices:\n",
      "I0000 00:00:1758506173.043099 1968454 service.cc:153]   StreamExecutor device (0): Metal, <undefined>\n",
      "I0000 00:00:1758506173.048027 1968454 mps_client.cc:406] Using Simple allocator.\n",
      "I0000 00:00:1758506173.048040 1968454 mps_client.cc:384] XLA backend will use up to 5726240768 bytes on device 0 for SimpleAllocator.\n"
     ]
    },
    {
     "name": "stdout",
     "output_type": "stream",
     "text": [
      "Metal device set to: Apple M2\n",
      "\n",
      "systemMemory: 8.00 GB\n",
      "maxCacheSize: 2.67 GB\n",
      "\n"
     ]
    }
   ],
   "source": [
    "key = random.PRNGKey(42)\n",
    "n_train, n_test = 20, 50\n",
    "x_train = jnp.linspace(-jnp.pi, jnp.pi, n_train)[:, None]\n",
    "y_train = jnp.sin(x_train) + 0.1 * random.normal(key, shape=(n_train, 1))\n",
    "x_test = jnp.linspace(-jnp.pi, jnp.pi + 1, n_test)[:, None]\n",
    "y_test = jnp.sin(x_test)"
   ]
  },
  {
   "cell_type": "code",
   "execution_count": 3,
   "id": "de8a25eb",
   "metadata": {},
   "outputs": [],
   "source": [
    "init_fn, apply_fn, kernel_fn = nt.stax.serial(\n",
    "    stax.Dense(512, W_std=1.0, b_std=0.05),\n",
    "    stax.Relu(),\n",
    "    stax.Dense(1, W_std=1.0, b_std=0.05),\n",
    ")\n",
    "output_shape, params_init = init_fn(key, input_shape=x_train.shape)\n",
    "predictions_init = apply_fn(params_init, x_train)"
   ]
  },
  {
   "cell_type": "code",
   "execution_count": 4,
   "id": "219febbd",
   "metadata": {},
   "outputs": [],
   "source": [
    "def compute_ntk(x1, x2, params):\n",
    "    ntk_fn = nt.empirical_ntk_fn(apply_fn)\n",
    "    return ntk_fn(x1, x2, params)\n",
    "\n",
    "def mse_loss(params, x, y):\n",
    "    pred = apply_fn(params, x)\n",
    "    return 0.5 * jnp.mean((pred - y) ** 2)"
   ]
  },
  {
   "cell_type": "code",
   "execution_count": 5,
   "id": "cefd5bdd",
   "metadata": {},
   "outputs": [],
   "source": [
    "grad_loss = jit(grad(mse_loss))\n",
    "optimizer = optax.adam(learning_rate=1e-3)\n",
    "opt_state = optimizer.init(params_init)\n",
    "params_dnn = params_init"
   ]
  },
  {
   "cell_type": "code",
   "execution_count": 14,
   "id": "88190302",
   "metadata": {},
   "outputs": [],
   "source": [
    "for epoch in range(5000):\n",
    "    grads = grad_loss(params_dnn, x_train, y_train)\n",
    "    updates, opt_state = optimizer.update(grads, opt_state)\n",
    "    params_dnn = optax.apply_updates(params_dnn, updates)"
   ]
  },
  {
   "cell_type": "code",
   "execution_count": 7,
   "id": "6cdb0b1d",
   "metadata": {},
   "outputs": [],
   "source": [
    "initial_ntk = compute_ntk(x_train, x_train, params_init)\n",
    "after_ntk = compute_ntk(x_train, x_train, params_dnn)"
   ]
  },
  {
   "cell_type": "code",
   "execution_count": 8,
   "id": "e18fa454",
   "metadata": {},
   "outputs": [],
   "source": [
    "def kare(y, K, z, n):\n",
    "    K_norm = K / n\n",
    "    mat = K_norm + z * jnp.eye(n)\n",
    "    inv = jnp.linalg.inv(mat)\n",
    "    inv2 = inv @ inv\n",
    "    term1 = (1 / n) * y.T @ inv2 @ y\n",
    "    trace = jnp.trace(inv) / n\n",
    "    term2 = trace**2\n",
    "    return term1[0, 0] - term2\n",
    "\n",
    "def kare_objective(params):\n",
    "    K = compute_ntk(x_train, x_train, params)\n",
    "    return kare(y_train, K, z=1e-3, n=n_train)\n",
    "    "
   ]
  },
  {
   "cell_type": "code",
   "execution_count": 9,
   "id": "3a79dbdc",
   "metadata": {},
   "outputs": [],
   "source": [
    "grad_kare = jit(grad(kare_objective))\n",
    "optimizer_kare = optax.adam(learning_rate=1e-6)\n",
    "opt_state_kare = optimizer_kare.init(params_init)\n",
    "params_kare = params_dnn"
   ]
  },
  {
   "cell_type": "code",
   "execution_count": 10,
   "id": "1f11f004",
   "metadata": {},
   "outputs": [
    {
     "ename": "XlaRuntimeError",
     "evalue": "UNKNOWN: /var/folders/nw/8ph9ksx515nc537nnyyjj34w0000gn/T/ipykernel_24425/1887060143.py:4:0: error: failed to legalize operation 'mhlo.triangular_solve'\n/var/folders/nw/8ph9ksx515nc537nnyyjj34w0000gn/T/ipykernel_24425/1887060143.py:4:0: note: called from\n/var/folders/nw/8ph9ksx515nc537nnyyjj34w0000gn/T/ipykernel_24425/1887060143.py:13:0: note: called from\n/var/folders/nw/8ph9ksx515nc537nnyyjj34w0000gn/T/ipykernel_24425/833026880.py:2:0: note: called from\n/Users/nahum/Programming/research/rubicon/.venv/lib/python3.10/site-packages/IPython/core/interactiveshell.py:3579:0: note: called from\n/Users/nahum/Programming/research/rubicon/.venv/lib/python3.10/site-packages/IPython/core/interactiveshell.py:3519:0: note: called from\n/Users/nahum/Programming/research/rubicon/.venv/lib/python3.10/site-packages/IPython/core/interactiveshell.py:3336:0: note: called from\n/Users/nahum/Programming/research/rubicon/.venv/lib/python3.10/site-packages/IPython/core/async_helpers.py:128:0: note: called from\n/Users/nahum/Programming/research/rubicon/.venv/lib/python3.10/site-packages/IPython/core/interactiveshell.py:3132:0: note: called from\n/Users/nahum/Programming/research/rubicon/.venv/lib/python3.10/site-packages/IPython/core/interactiveshell.py:3077:0: note: called from\n/Users/nahum/Programming/research/rubicon/.venv/lib/python3.10/site-packages/ipykernel/zmqshell.py:577:0: note: called from\n/var/folders/nw/8ph9ksx515nc537nnyyjj34w0000gn/T/ipykernel_24425/1887060143.py:4:0: note: see current operation: %553 = \"mhlo.triangular_solve\"(%475#4, %552) {left_side = true, lower = true, transpose_a = #mhlo<transpose NO_TRANSPOSE>, unit_diagonal = true} : (tensor<20x20xf32>, tensor<20x20xf32>) -> tensor<20x20xf32>\n",
     "output_type": "error",
     "traceback": [
      "\u001b[0;31m---------------------------------------------------------------------------\u001b[0m",
      "\u001b[0;31mXlaRuntimeError\u001b[0m                           Traceback (most recent call last)",
      "Cell \u001b[0;32mIn[10], line 2\u001b[0m\n\u001b[1;32m      1\u001b[0m \u001b[38;5;28;01mfor\u001b[39;00m epoch \u001b[38;5;129;01min\u001b[39;00m \u001b[38;5;28mrange\u001b[39m(\u001b[38;5;241m1000\u001b[39m):\n\u001b[0;32m----> 2\u001b[0m     grads \u001b[38;5;241m=\u001b[39m \u001b[43mgrad_kare\u001b[49m\u001b[43m(\u001b[49m\u001b[43mparams_kare\u001b[49m\u001b[43m)\u001b[49m\n\u001b[1;32m      3\u001b[0m     updates, opt_state_kare \u001b[38;5;241m=\u001b[39m optimizer_kare\u001b[38;5;241m.\u001b[39mupdate(grads, opt_state_kare)\n\u001b[1;32m      4\u001b[0m     params_kare \u001b[38;5;241m=\u001b[39m optax\u001b[38;5;241m.\u001b[39mapply_updates(params_kare, updates)\n",
      "    \u001b[0;31m[... skipping hidden 15 frame]\u001b[0m\n",
      "File \u001b[0;32m~/Programming/research/rubicon/.venv/lib/python3.10/site-packages/jax/_src/compiler.py:267\u001b[0m, in \u001b[0;36mbackend_compile\u001b[0;34m(backend, module, options, host_callbacks)\u001b[0m\n\u001b[1;32m    261\u001b[0m     \u001b[38;5;28;01mreturn\u001b[39;00m backend\u001b[38;5;241m.\u001b[39mcompile(\n\u001b[1;32m    262\u001b[0m         built_c, compile_options\u001b[38;5;241m=\u001b[39moptions, host_callbacks\u001b[38;5;241m=\u001b[39mhost_callbacks\n\u001b[1;32m    263\u001b[0m     )\n\u001b[1;32m    264\u001b[0m   \u001b[38;5;66;03m# Some backends don't have `host_callbacks` option yet\u001b[39;00m\n\u001b[1;32m    265\u001b[0m   \u001b[38;5;66;03m# TODO(sharadmv): remove this fallback when all backends allow `compile`\u001b[39;00m\n\u001b[1;32m    266\u001b[0m   \u001b[38;5;66;03m# to take in `host_callbacks`\u001b[39;00m\n\u001b[0;32m--> 267\u001b[0m   \u001b[38;5;28;01mreturn\u001b[39;00m \u001b[43mbackend\u001b[49m\u001b[38;5;241;43m.\u001b[39;49m\u001b[43mcompile\u001b[49m\u001b[43m(\u001b[49m\u001b[43mbuilt_c\u001b[49m\u001b[43m,\u001b[49m\u001b[43m \u001b[49m\u001b[43mcompile_options\u001b[49m\u001b[38;5;241;43m=\u001b[39;49m\u001b[43moptions\u001b[49m\u001b[43m)\u001b[49m\n\u001b[1;32m    268\u001b[0m \u001b[38;5;28;01mexcept\u001b[39;00m xc\u001b[38;5;241m.\u001b[39mXlaRuntimeError \u001b[38;5;28;01mas\u001b[39;00m e:\n\u001b[1;32m    269\u001b[0m   \u001b[38;5;28;01mfor\u001b[39;00m error_handler \u001b[38;5;129;01min\u001b[39;00m _XLA_RUNTIME_ERROR_HANDLERS:\n",
      "\u001b[0;31mXlaRuntimeError\u001b[0m: UNKNOWN: /var/folders/nw/8ph9ksx515nc537nnyyjj34w0000gn/T/ipykernel_24425/1887060143.py:4:0: error: failed to legalize operation 'mhlo.triangular_solve'\n/var/folders/nw/8ph9ksx515nc537nnyyjj34w0000gn/T/ipykernel_24425/1887060143.py:4:0: note: called from\n/var/folders/nw/8ph9ksx515nc537nnyyjj34w0000gn/T/ipykernel_24425/1887060143.py:13:0: note: called from\n/var/folders/nw/8ph9ksx515nc537nnyyjj34w0000gn/T/ipykernel_24425/833026880.py:2:0: note: called from\n/Users/nahum/Programming/research/rubicon/.venv/lib/python3.10/site-packages/IPython/core/interactiveshell.py:3579:0: note: called from\n/Users/nahum/Programming/research/rubicon/.venv/lib/python3.10/site-packages/IPython/core/interactiveshell.py:3519:0: note: called from\n/Users/nahum/Programming/research/rubicon/.venv/lib/python3.10/site-packages/IPython/core/interactiveshell.py:3336:0: note: called from\n/Users/nahum/Programming/research/rubicon/.venv/lib/python3.10/site-packages/IPython/core/async_helpers.py:128:0: note: called from\n/Users/nahum/Programming/research/rubicon/.venv/lib/python3.10/site-packages/IPython/core/interactiveshell.py:3132:0: note: called from\n/Users/nahum/Programming/research/rubicon/.venv/lib/python3.10/site-packages/IPython/core/interactiveshell.py:3077:0: note: called from\n/Users/nahum/Programming/research/rubicon/.venv/lib/python3.10/site-packages/ipykernel/zmqshell.py:577:0: note: called from\n/var/folders/nw/8ph9ksx515nc537nnyyjj34w0000gn/T/ipykernel_24425/1887060143.py:4:0: note: see current operation: %553 = \"mhlo.triangular_solve\"(%475#4, %552) {left_side = true, lower = true, transpose_a = #mhlo<transpose NO_TRANSPOSE>, unit_diagonal = true} : (tensor<20x20xf32>, tensor<20x20xf32>) -> tensor<20x20xf32>\n"
     ]
    }
   ],
   "source": [
    "for epoch in range(1000):\n",
    "    grads = grad_kare(params_kare)\n",
    "    updates, opt_state_kare = optimizer_kare.update(grads, opt_state_kare)\n",
    "    params_kare = optax.apply_updates(params_kare, updates)"
   ]
  },
  {
   "cell_type": "code",
   "execution_count": 11,
   "id": "7f823d3c",
   "metadata": {},
   "outputs": [],
   "source": [
    "def kernel_predict(kernel_matrix_train, x_test, y_train, params, lambd=1e-6, n=n_train):\n",
    "    K_test_train = compute_ntk(x_test, x_train, params)\n",
    "    K_norm = kernel_matrix_train / n\n",
    "    inv = jnp.linalg.inv(K_norm + lambd * jnp.eye(n))\n",
    "    preds = (1 / n) * K_test_train @ inv @ y_train\n",
    "    return preds\n",
    "\n",
    "def mse(pred, true):\n",
    "    return jnp.mean((pred - true) ** 2)"
   ]
  },
  {
   "cell_type": "code",
   "execution_count": 12,
   "id": "5f3887d5",
   "metadata": {},
   "outputs": [],
   "source": [
    "kare_ntk = compute_ntk(x_train, x_train, params_kare)"
   ]
  },
  {
   "cell_type": "code",
   "execution_count": 13,
   "id": "09e3b2e6",
   "metadata": {},
   "outputs": [
    {
     "ename": "XlaRuntimeError",
     "evalue": "UNKNOWN: /var/folders/nw/8ph9ksx515nc537nnyyjj34w0000gn/T/ipykernel_24425/1887060143.py:4:0: error: failed to legalize operation 'mhlo.triangular_solve'\n/var/folders/nw/8ph9ksx515nc537nnyyjj34w0000gn/T/ipykernel_24425/1887060143.py:4:0: note: called from\n/var/folders/nw/8ph9ksx515nc537nnyyjj34w0000gn/T/ipykernel_24425/1887060143.py:13:0: note: called from\n/var/folders/nw/8ph9ksx515nc537nnyyjj34w0000gn/T/ipykernel_24425/833026880.py:2:0: note: called from\n/Users/nahum/Programming/research/rubicon/.venv/lib/python3.10/site-packages/IPython/core/interactiveshell.py:3579:0: note: called from\n/Users/nahum/Programming/research/rubicon/.venv/lib/python3.10/site-packages/IPython/core/interactiveshell.py:3519:0: note: called from\n/Users/nahum/Programming/research/rubicon/.venv/lib/python3.10/site-packages/IPython/core/interactiveshell.py:3336:0: note: called from\n/Users/nahum/Programming/research/rubicon/.venv/lib/python3.10/site-packages/IPython/core/async_helpers.py:128:0: note: called from\n/Users/nahum/Programming/research/rubicon/.venv/lib/python3.10/site-packages/IPython/core/interactiveshell.py:3132:0: note: called from\n/Users/nahum/Programming/research/rubicon/.venv/lib/python3.10/site-packages/IPython/core/interactiveshell.py:3077:0: note: called from\n/Users/nahum/Programming/research/rubicon/.venv/lib/python3.10/site-packages/ipykernel/zmqshell.py:577:0: note: called from\n/var/folders/nw/8ph9ksx515nc537nnyyjj34w0000gn/T/ipykernel_24425/1887060143.py:4:0: note: see current operation: %126 = \"mhlo.triangular_solve\"(%48#4, %125) {left_side = true, lower = true, transpose_a = #mhlo<transpose NO_TRANSPOSE>, unit_diagonal = true} : (tensor<20x20xf32>, tensor<20x20xf32>) -> tensor<20x20xf32>\n",
     "output_type": "error",
     "traceback": [
      "\u001b[0;31m---------------------------------------------------------------------------\u001b[0m",
      "\u001b[0;31mXlaRuntimeError\u001b[0m                           Traceback (most recent call last)",
      "Cell \u001b[0;32mIn[13], line 2\u001b[0m\n\u001b[1;32m      1\u001b[0m dnn_preds \u001b[38;5;241m=\u001b[39m apply_fn(params_dnn, x_test)\n\u001b[0;32m----> 2\u001b[0m initial_ntk_preds \u001b[38;5;241m=\u001b[39m \u001b[43mkernel_predict\u001b[49m\u001b[43m(\u001b[49m\u001b[43minitial_ntk\u001b[49m\u001b[43m,\u001b[49m\u001b[43m \u001b[49m\u001b[43mx_test\u001b[49m\u001b[43m,\u001b[49m\u001b[43m \u001b[49m\u001b[43my_train\u001b[49m\u001b[43m,\u001b[49m\u001b[43m \u001b[49m\u001b[43mparams_init\u001b[49m\u001b[43m)\u001b[49m\n\u001b[1;32m      3\u001b[0m after_ntk_preds \u001b[38;5;241m=\u001b[39m kernel_predict(after_ntk, x_test, y_train, params_dnn)\n\u001b[1;32m      4\u001b[0m kare_preds \u001b[38;5;241m=\u001b[39m kernel_predict(kare_ntk, x_test, y_train, params_kare)\n",
      "Cell \u001b[0;32mIn[11], line 4\u001b[0m, in \u001b[0;36mkernel_predict\u001b[0;34m(kernel_matrix_train, x_test, y_train, params, lambd, n)\u001b[0m\n\u001b[1;32m      2\u001b[0m K_test_train \u001b[38;5;241m=\u001b[39m compute_ntk(x_test, x_train, params)\n\u001b[1;32m      3\u001b[0m K_norm \u001b[38;5;241m=\u001b[39m kernel_matrix_train \u001b[38;5;241m/\u001b[39m n\n\u001b[0;32m----> 4\u001b[0m inv \u001b[38;5;241m=\u001b[39m \u001b[43mjnp\u001b[49m\u001b[38;5;241;43m.\u001b[39;49m\u001b[43mlinalg\u001b[49m\u001b[38;5;241;43m.\u001b[39;49m\u001b[43minv\u001b[49m\u001b[43m(\u001b[49m\u001b[43mK_norm\u001b[49m\u001b[43m \u001b[49m\u001b[38;5;241;43m+\u001b[39;49m\u001b[43m \u001b[49m\u001b[43mlambd\u001b[49m\u001b[43m \u001b[49m\u001b[38;5;241;43m*\u001b[39;49m\u001b[43m \u001b[49m\u001b[43mjnp\u001b[49m\u001b[38;5;241;43m.\u001b[39;49m\u001b[43meye\u001b[49m\u001b[43m(\u001b[49m\u001b[43mn\u001b[49m\u001b[43m)\u001b[49m\u001b[43m)\u001b[49m\n\u001b[1;32m      5\u001b[0m preds \u001b[38;5;241m=\u001b[39m (\u001b[38;5;241m1\u001b[39m \u001b[38;5;241m/\u001b[39m n) \u001b[38;5;241m*\u001b[39m K_test_train \u001b[38;5;241m@\u001b[39m inv \u001b[38;5;241m@\u001b[39m y_train\n\u001b[1;32m      6\u001b[0m \u001b[38;5;28;01mreturn\u001b[39;00m preds\n",
      "    \u001b[0;31m[... skipping hidden 15 frame]\u001b[0m\n",
      "File \u001b[0;32m~/Programming/research/rubicon/.venv/lib/python3.10/site-packages/jax/_src/compiler.py:267\u001b[0m, in \u001b[0;36mbackend_compile\u001b[0;34m(backend, module, options, host_callbacks)\u001b[0m\n\u001b[1;32m    261\u001b[0m     \u001b[38;5;28;01mreturn\u001b[39;00m backend\u001b[38;5;241m.\u001b[39mcompile(\n\u001b[1;32m    262\u001b[0m         built_c, compile_options\u001b[38;5;241m=\u001b[39moptions, host_callbacks\u001b[38;5;241m=\u001b[39mhost_callbacks\n\u001b[1;32m    263\u001b[0m     )\n\u001b[1;32m    264\u001b[0m   \u001b[38;5;66;03m# Some backends don't have `host_callbacks` option yet\u001b[39;00m\n\u001b[1;32m    265\u001b[0m   \u001b[38;5;66;03m# TODO(sharadmv): remove this fallback when all backends allow `compile`\u001b[39;00m\n\u001b[1;32m    266\u001b[0m   \u001b[38;5;66;03m# to take in `host_callbacks`\u001b[39;00m\n\u001b[0;32m--> 267\u001b[0m   \u001b[38;5;28;01mreturn\u001b[39;00m \u001b[43mbackend\u001b[49m\u001b[38;5;241;43m.\u001b[39;49m\u001b[43mcompile\u001b[49m\u001b[43m(\u001b[49m\u001b[43mbuilt_c\u001b[49m\u001b[43m,\u001b[49m\u001b[43m \u001b[49m\u001b[43mcompile_options\u001b[49m\u001b[38;5;241;43m=\u001b[39;49m\u001b[43moptions\u001b[49m\u001b[43m)\u001b[49m\n\u001b[1;32m    268\u001b[0m \u001b[38;5;28;01mexcept\u001b[39;00m xc\u001b[38;5;241m.\u001b[39mXlaRuntimeError \u001b[38;5;28;01mas\u001b[39;00m e:\n\u001b[1;32m    269\u001b[0m   \u001b[38;5;28;01mfor\u001b[39;00m error_handler \u001b[38;5;129;01min\u001b[39;00m _XLA_RUNTIME_ERROR_HANDLERS:\n",
      "\u001b[0;31mXlaRuntimeError\u001b[0m: UNKNOWN: /var/folders/nw/8ph9ksx515nc537nnyyjj34w0000gn/T/ipykernel_24425/1887060143.py:4:0: error: failed to legalize operation 'mhlo.triangular_solve'\n/var/folders/nw/8ph9ksx515nc537nnyyjj34w0000gn/T/ipykernel_24425/1887060143.py:4:0: note: called from\n/var/folders/nw/8ph9ksx515nc537nnyyjj34w0000gn/T/ipykernel_24425/1887060143.py:13:0: note: called from\n/var/folders/nw/8ph9ksx515nc537nnyyjj34w0000gn/T/ipykernel_24425/833026880.py:2:0: note: called from\n/Users/nahum/Programming/research/rubicon/.venv/lib/python3.10/site-packages/IPython/core/interactiveshell.py:3579:0: note: called from\n/Users/nahum/Programming/research/rubicon/.venv/lib/python3.10/site-packages/IPython/core/interactiveshell.py:3519:0: note: called from\n/Users/nahum/Programming/research/rubicon/.venv/lib/python3.10/site-packages/IPython/core/interactiveshell.py:3336:0: note: called from\n/Users/nahum/Programming/research/rubicon/.venv/lib/python3.10/site-packages/IPython/core/async_helpers.py:128:0: note: called from\n/Users/nahum/Programming/research/rubicon/.venv/lib/python3.10/site-packages/IPython/core/interactiveshell.py:3132:0: note: called from\n/Users/nahum/Programming/research/rubicon/.venv/lib/python3.10/site-packages/IPython/core/interactiveshell.py:3077:0: note: called from\n/Users/nahum/Programming/research/rubicon/.venv/lib/python3.10/site-packages/ipykernel/zmqshell.py:577:0: note: called from\n/var/folders/nw/8ph9ksx515nc537nnyyjj34w0000gn/T/ipykernel_24425/1887060143.py:4:0: note: see current operation: %126 = \"mhlo.triangular_solve\"(%48#4, %125) {left_side = true, lower = true, transpose_a = #mhlo<transpose NO_TRANSPOSE>, unit_diagonal = true} : (tensor<20x20xf32>, tensor<20x20xf32>) -> tensor<20x20xf32>\n"
     ]
    }
   ],
   "source": [
    "dnn_preds = apply_fn(params_dnn, x_test)\n",
    "initial_ntk_preds = kernel_predict(initial_ntk, x_test, y_train, params_init)\n",
    "after_ntk_preds = kernel_predict(after_ntk, x_test, y_train, params_dnn)\n",
    "kare_preds = kernel_predict(kare_ntk, x_test, y_train, params_kare)\n",
    "\n",
    "print(\n",
    "    f\"Neural network = {mse(dnn_preds, y_test)}\\n\"\n",
    "    f\"Initial NTK    = {mse(initial_ntk_preds, y_test)}\\n\"\n",
    "    f\"After NTK      = {mse(after_ntk_preds, y_test)}\\n\"\n",
    "    f\"NTK KARE       = {mse(kare_preds, y_test)}\"\n",
    ")"
   ]
  },
  {
   "cell_type": "code",
   "execution_count": null,
   "id": "4333188c",
   "metadata": {},
   "outputs": [],
   "source": []
  }
 ],
 "metadata": {
  "kernelspec": {
   "display_name": ".venv",
   "language": "python",
   "name": "python3"
  },
  "language_info": {
   "codemirror_mode": {
    "name": "ipython",
    "version": 3
   },
   "file_extension": ".py",
   "mimetype": "text/x-python",
   "name": "python",
   "nbconvert_exporter": "python",
   "pygments_lexer": "ipython3",
   "version": "3.10.16"
  }
 },
 "nbformat": 4,
 "nbformat_minor": 5
}
