{
 "cells": [
  {
   "cell_type": "code",
   "execution_count": null,
   "id": "79a8c5e2",
   "metadata": {},
   "outputs": [],
   "source": [
    "import sys\n",
    "from pathlib import Path\n",
    "\n",
    "sys.path.append(str(Path.cwd().parent))"
   ]
  },
  {
   "cell_type": "code",
   "execution_count": null,
   "id": "5e765ed7",
   "metadata": {},
   "outputs": [],
   "source": [
    "import os\n",
    "\n",
    "os.environ[\"TF_CPP_MIN_LOG_LEVEL\"] = \"2\"\n",
    "from typing import Iterator\n",
    "\n",
    "import jax.numpy as jnp\n",
    "\n",
    "from datasets.sine import create_data_factory, load_sine, SineLoaderConfig\n",
    "from rubicon.nns.mlp import LayerConfig, MLPConfig, MultiLayerPerceptron\n",
    "from rubicon.nns._base import TrainingConfig, NTKTrainingConfig\n",
    "from rubicon.nns.metrics.mae import MeanAbsoluteError"
   ]
  },
  {
   "cell_type": "code",
   "execution_count": null,
   "id": "c6f5fd9f",
   "metadata": {},
   "outputs": [],
   "source": [
    "def get_input_shape(\n",
    "    iterator: Iterator[tuple[jnp.ndarray, jnp.ndarray]],\n",
    ") -> tuple[int, ...]:\n",
    "    \"\"\"Extract the input shape from the first batch of an iterator\"\"\"\n",
    "    try:\n",
    "        x_batch, _ = next(iter(iterator))\n",
    "        return x_batch.shape[:]\n",
    "    except StopIteration:\n",
    "        raise ValueError(\"Empty iterator; cannot determine input shape\")"
   ]
  },
  {
   "cell_type": "code",
   "execution_count": null,
   "id": "bd9b885a",
   "metadata": {},
   "outputs": [],
   "source": [
    "# get the input shape, necessary for the model initialization.\n",
    "batch_size = 32\n",
    "n_train = 1600\n",
    "n_test = 320\n",
    "dataset_config = SineLoaderConfig(\n",
    "    batch_size=batch_size,\n",
    "    n_train=n_train,\n",
    "    n_test=n_test,\n",
    ")\n",
    "temp_train_iter, _ = load_sine(dataset_config)\n",
    "input_shape = get_input_shape(temp_train_iter)\n",
    "input_shape"
   ]
  },
  {
   "cell_type": "code",
   "execution_count": null,
   "id": "fe5c2a09",
   "metadata": {},
   "outputs": [],
   "source": [
    "config = MLPConfig(\n",
    "    output_layer=LayerConfig(size=1), hidden_layers=[LayerConfig(size=256)]\n",
    ")\n",
    "model = MultiLayerPerceptron(config)\n",
    "model(input_shape=input_shape)\n",
    "model"
   ]
  },
  {
   "cell_type": "code",
   "execution_count": null,
   "id": "388eee15",
   "metadata": {},
   "outputs": [],
   "source": [
    "# standard training\n",
    "training_config = TrainingConfig(\n",
    "    data_factory=create_data_factory(dataset_config),\n",
    "    num_epochs=2,\n",
    "    batch_size=batch_size,\n",
    "    verbose=True,\n",
    "    accuracy_fn=MeanAbsoluteError(),\n",
    ")\n",
    "history = model.fit(training_config)"
   ]
  },
  {
   "cell_type": "code",
   "execution_count": null,
   "id": "30ed3969",
   "metadata": {},
   "outputs": [],
   "source": [
    "# training with kare\n",
    "kare_training_config = NTKTrainingConfig(\n",
    "    data_factory=create_data_factory(dataset_config),\n",
    "    num_epochs=2,\n",
    "    batch_size=batch_size,\n",
    "    verbose=True,\n",
    "    accuracy_fn=MeanAbsoluteError(),\n",
    "    z=1e-3,\n",
    "    lambd=1e-6,\n",
    "    update_params=False,\n",
    "    with_kare=True,\n",
    ")\n",
    "history = model.fit(kare_training_config)"
   ]
  },
  {
   "cell_type": "code",
   "execution_count": null,
   "id": "5040ef66",
   "metadata": {},
   "outputs": [],
   "source": []
  }
 ],
 "metadata": {
  "kernelspec": {
   "display_name": ".venv",
   "language": "python",
   "name": "python3"
  },
  "language_info": {
   "codemirror_mode": {
    "name": "ipython",
    "version": 3
   },
   "file_extension": ".py",
   "mimetype": "text/x-python",
   "name": "python",
   "nbconvert_exporter": "python",
   "pygments_lexer": "ipython3",
   "version": "3.10.16"
  }
 },
 "nbformat": 4,
 "nbformat_minor": 5
}
